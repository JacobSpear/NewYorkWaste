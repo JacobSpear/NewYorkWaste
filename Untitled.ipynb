{
 "cells": [
  {
   "cell_type": "code",
   "execution_count": 1,
   "metadata": {
    "scrolled": true
   },
   "outputs": [],
   "source": [
    "import matplotlib.pyplot as plt\n",
    "import pandas as pd\n",
    "import numpy as np\n",
    "import csv\n",
    "import os\n",
    "from decimal import *\n",
    "import json"
   ]
  },
  {
   "cell_type": "code",
   "execution_count": 2,
   "metadata": {},
   "outputs": [],
   "source": [
    "# Read location of Data\n",
    "\n",
    "df = pd.read_csv(\"TonnageClean.csv\")"
   ]
  },
  {
   "cell_type": "code",
   "execution_count": 3,
   "metadata": {},
   "outputs": [
    {
     "name": "stdout",
     "output_type": "stream",
     "text": [
      "   Unnamed: 0  Month Index Year/Month  Year  Month    Borough  CD  Refuse  \\\n",
      "0           0           23  1993 / 11  1993     11  Manhattan   1   625.2   \n",
      "1           1           45  1995 / 09  1995      9  Manhattan   1   633.1   \n",
      "2           2           44  1995 / 08  1995      8  Manhattan   1   627.5   \n",
      "3           3          243  2012 / 03  2012      3  Manhattan   1  1194.4   \n",
      "4           4            3  1992 / 03  1992      3  Manhattan   1   726.0   \n",
      "\n",
      "   Paper    MGP  \n",
      "0  119.4   34.4  \n",
      "1  117.2   45.8  \n",
      "2   82.4   35.6  \n",
      "3  341.6  210.8  \n",
      "4    NaN    NaN  \n"
     ]
    }
   ],
   "source": [
    "# Preview Data\n",
    "print(df.head())"
   ]
  },
  {
   "cell_type": "code",
   "execution_count": 4,
   "metadata": {},
   "outputs": [
    {
     "name": "stdout",
     "output_type": "stream",
     "text": [
      "Index(['Unnamed: 0', 'Month Index', 'Year/Month', 'Year', 'Month', 'Borough',\n",
      "       'CD', 'Refuse', 'Paper', 'MGP'],\n",
      "      dtype='object')\n"
     ]
    }
   ],
   "source": [
    "# Check Columns\n",
    "print(df.columns)"
   ]
  },
  {
   "cell_type": "code",
   "execution_count": 5,
   "metadata": {},
   "outputs": [],
   "source": [
    "# How many years\n",
    "unique = len(df[\"Year\"].unique())"
   ]
  },
  {
   "cell_type": "code",
   "execution_count": 6,
   "metadata": {},
   "outputs": [],
   "source": [
    "# Average Refuse per month\n",
    "avg_ref = (df[\"Refuse\"].mean())"
   ]
  },
  {
   "cell_type": "code",
   "execution_count": 7,
   "metadata": {},
   "outputs": [],
   "source": [
    "# Total Refuse\n",
    "tot_ref = df[\"Refuse\"].sum()"
   ]
  },
  {
   "cell_type": "code",
   "execution_count": 8,
   "metadata": {},
   "outputs": [],
   "source": [
    "# Total Recycling\n",
    "tot_rec = df[\"Paper\"].sum()"
   ]
  },
  {
   "cell_type": "code",
   "execution_count": 9,
   "metadata": {},
   "outputs": [],
   "source": [
    "# Average Recycling per month\n",
    "avg_rec = (df[\"Paper\"].mean())"
   ]
  },
  {
   "cell_type": "code",
   "execution_count": 10,
   "metadata": {},
   "outputs": [
    {
     "data": {
      "text/html": [
       "<div>\n",
       "<style scoped>\n",
       "    .dataframe tbody tr th:only-of-type {\n",
       "        vertical-align: middle;\n",
       "    }\n",
       "\n",
       "    .dataframe tbody tr th {\n",
       "        vertical-align: top;\n",
       "    }\n",
       "\n",
       "    .dataframe thead th {\n",
       "        text-align: right;\n",
       "    }\n",
       "</style>\n",
       "<table border=\"1\" class=\"dataframe\">\n",
       "  <thead>\n",
       "    <tr style=\"text-align: right;\">\n",
       "      <th></th>\n",
       "      <th>Total Years</th>\n",
       "      <th>Avg Refuse Per Month</th>\n",
       "      <th>Total Refuse in Tons</th>\n",
       "      <th>Total Recycling in Tons</th>\n",
       "      <th>Avg Rec Per Month</th>\n",
       "    </tr>\n",
       "  </thead>\n",
       "  <tbody>\n",
       "    <tr>\n",
       "      <th>0</th>\n",
       "      <td>28</td>\n",
       "      <td>3,760.67</td>\n",
       "      <td>74,551,578.90</td>\n",
       "      <td>7,452,780.00</td>\n",
       "      <td>416.47</td>\n",
       "    </tr>\n",
       "  </tbody>\n",
       "</table>\n",
       "</div>"
      ],
      "text/plain": [
       "   Total Years  Avg Refuse Per Month  Total Refuse in Tons  \\\n",
       "0           28              3,760.67         74,551,578.90   \n",
       "\n",
       "   Total Recycling in Tons  Avg Rec Per Month  \n",
       "0             7,452,780.00             416.47  "
      ]
     },
     "execution_count": 10,
     "metadata": {},
     "output_type": "execute_result"
    }
   ],
   "source": [
    "# Analysis Total\n",
    "pd.options.display.float_format = '{:,.2f}'.format # sets the DF to 2 decimal places\n",
    "\n",
    "refuse_analysis = pd.DataFrame({\"Total Years\": [unique],\n",
    "                                \"Avg Refuse Per Month\": [avg_ref],\n",
    "                                \"Total Refuse in Tons\": [tot_ref],\n",
    "                                \"Total Recycling in Tons\": [tot_rec],\n",
    "                                \"Avg Rec Per Month\": [avg_rec]})\n",
    "                                         \n",
    "refuse_analysis\n"
   ]
  },
  {
   "cell_type": "code",
   "execution_count": 11,
   "metadata": {},
   "outputs": [
    {
     "data": {
      "text/plain": [
       "[<matplotlib.lines.Line2D at 0x1f8b8cf5b48>]"
      ]
     },
     "execution_count": 11,
     "metadata": {},
     "output_type": "execute_result"
    },
    {
     "data": {
      "image/png": "[encoded data removed]",
      "text/plain": [
       "<Figure size 432x288 with 1 Axes>"
      ]
     },
     "metadata": {
      "needs_background": "light"
     },
     "output_type": "display_data"
    }
   ],
   "source": [
    "year_gb = df.groupby(\"Year\")\n",
    "plt.plot(range(1992,2020),year_gb.sum()[\"Refuse\"])"
   ]
  },
  {
   "cell_type": "code",
   "execution_count": 12,
   "metadata": {},
   "outputs": [
    {
     "data": {
      "text/html": [
       "<div>\n",
       "<style scoped>\n",
       "    .dataframe tbody tr th:only-of-type {\n",
       "        vertical-align: middle;\n",
       "    }\n",
       "\n",
       "    .dataframe tbody tr th {\n",
       "        vertical-align: top;\n",
       "    }\n",
       "\n",
       "    .dataframe thead th {\n",
       "        text-align: right;\n",
       "    }\n",
       "</style>\n",
       "<table border=\"1\" class=\"dataframe\">\n",
       "  <thead>\n",
       "    <tr style=\"text-align: right;\">\n",
       "      <th></th>\n",
       "      <th>Unnamed: 0</th>\n",
       "      <th>Month Index</th>\n",
       "      <th>Year/Month</th>\n",
       "      <th>Year</th>\n",
       "      <th>Month</th>\n",
       "      <th>Borough</th>\n",
       "      <th>CD</th>\n",
       "      <th>Refuse</th>\n",
       "      <th>Paper</th>\n",
       "      <th>MGP</th>\n",
       "    </tr>\n",
       "  </thead>\n",
       "  <tbody>\n",
       "    <tr>\n",
       "      <th>0</th>\n",
       "      <td>0</td>\n",
       "      <td>23</td>\n",
       "      <td>1993 / 11</td>\n",
       "      <td>1993</td>\n",
       "      <td>11</td>\n",
       "      <td>Manhattan</td>\n",
       "      <td>1</td>\n",
       "      <td>625.20</td>\n",
       "      <td>119.40</td>\n",
       "      <td>34.40</td>\n",
       "    </tr>\n",
       "    <tr>\n",
       "      <th>1</th>\n",
       "      <td>1</td>\n",
       "      <td>45</td>\n",
       "      <td>1995 / 09</td>\n",
       "      <td>1995</td>\n",
       "      <td>9</td>\n",
       "      <td>Manhattan</td>\n",
       "      <td>1</td>\n",
       "      <td>633.10</td>\n",
       "      <td>117.20</td>\n",
       "      <td>45.80</td>\n",
       "    </tr>\n",
       "    <tr>\n",
       "      <th>2</th>\n",
       "      <td>2</td>\n",
       "      <td>44</td>\n",
       "      <td>1995 / 08</td>\n",
       "      <td>1995</td>\n",
       "      <td>8</td>\n",
       "      <td>Manhattan</td>\n",
       "      <td>1</td>\n",
       "      <td>627.50</td>\n",
       "      <td>82.40</td>\n",
       "      <td>35.60</td>\n",
       "    </tr>\n",
       "    <tr>\n",
       "      <th>3</th>\n",
       "      <td>3</td>\n",
       "      <td>243</td>\n",
       "      <td>2012 / 03</td>\n",
       "      <td>2012</td>\n",
       "      <td>3</td>\n",
       "      <td>Manhattan</td>\n",
       "      <td>1</td>\n",
       "      <td>1,194.40</td>\n",
       "      <td>341.60</td>\n",
       "      <td>210.80</td>\n",
       "    </tr>\n",
       "    <tr>\n",
       "      <th>4</th>\n",
       "      <td>4</td>\n",
       "      <td>3</td>\n",
       "      <td>1992 / 03</td>\n",
       "      <td>1992</td>\n",
       "      <td>3</td>\n",
       "      <td>Manhattan</td>\n",
       "      <td>1</td>\n",
       "      <td>726.00</td>\n",
       "      <td>nan</td>\n",
       "      <td>nan</td>\n",
       "    </tr>\n",
       "    <tr>\n",
       "      <th>...</th>\n",
       "      <td>...</td>\n",
       "      <td>...</td>\n",
       "      <td>...</td>\n",
       "      <td>...</td>\n",
       "      <td>...</td>\n",
       "      <td>...</td>\n",
       "      <td>...</td>\n",
       "      <td>...</td>\n",
       "      <td>...</td>\n",
       "      <td>...</td>\n",
       "    </tr>\n",
       "    <tr>\n",
       "      <th>19819</th>\n",
       "      <td>20511</td>\n",
       "      <td>131</td>\n",
       "      <td>2002 / 11</td>\n",
       "      <td>2002</td>\n",
       "      <td>11</td>\n",
       "      <td>Bronx</td>\n",
       "      <td>6</td>\n",
       "      <td>2,463.80</td>\n",
       "      <td>69.30</td>\n",
       "      <td>nan</td>\n",
       "    </tr>\n",
       "    <tr>\n",
       "      <th>19820</th>\n",
       "      <td>20512</td>\n",
       "      <td>1</td>\n",
       "      <td>1992 / 01</td>\n",
       "      <td>1992</td>\n",
       "      <td>1</td>\n",
       "      <td>Bronx</td>\n",
       "      <td>6</td>\n",
       "      <td>2,165.90</td>\n",
       "      <td>nan</td>\n",
       "      <td>nan</td>\n",
       "    </tr>\n",
       "    <tr>\n",
       "      <th>19821</th>\n",
       "      <td>20514</td>\n",
       "      <td>21</td>\n",
       "      <td>1993 / 09</td>\n",
       "      <td>1993</td>\n",
       "      <td>9</td>\n",
       "      <td>Bronx</td>\n",
       "      <td>6</td>\n",
       "      <td>1,954.70</td>\n",
       "      <td>nan</td>\n",
       "      <td>nan</td>\n",
       "    </tr>\n",
       "    <tr>\n",
       "      <th>19822</th>\n",
       "      <td>20515</td>\n",
       "      <td>9</td>\n",
       "      <td>1992 / 09</td>\n",
       "      <td>1992</td>\n",
       "      <td>9</td>\n",
       "      <td>Bronx</td>\n",
       "      <td>6</td>\n",
       "      <td>2,107.10</td>\n",
       "      <td>nan</td>\n",
       "      <td>nan</td>\n",
       "    </tr>\n",
       "    <tr>\n",
       "      <th>19823</th>\n",
       "      <td>20516</td>\n",
       "      <td>7</td>\n",
       "      <td>1992 / 07</td>\n",
       "      <td>1992</td>\n",
       "      <td>7</td>\n",
       "      <td>Bronx</td>\n",
       "      <td>6</td>\n",
       "      <td>2,140.40</td>\n",
       "      <td>nan</td>\n",
       "      <td>nan</td>\n",
       "    </tr>\n",
       "  </tbody>\n",
       "</table>\n",
       "<p>19824 rows × 10 columns</p>\n",
       "</div>"
      ],
      "text/plain": [
       "       Unnamed: 0  Month Index Year/Month  Year  Month    Borough  CD  \\\n",
       "0               0           23  1993 / 11  1993     11  Manhattan   1   \n",
       "1               1           45  1995 / 09  1995      9  Manhattan   1   \n",
       "2               2           44  1995 / 08  1995      8  Manhattan   1   \n",
       "3               3          243  2012 / 03  2012      3  Manhattan   1   \n",
       "4               4            3  1992 / 03  1992      3  Manhattan   1   \n",
       "...           ...          ...        ...   ...    ...        ...  ..   \n",
       "19819       20511          131  2002 / 11  2002     11      Bronx   6   \n",
       "19820       20512            1  1992 / 01  1992      1      Bronx   6   \n",
       "19821       20514           21  1993 / 09  1993      9      Bronx   6   \n",
       "19822       20515            9  1992 / 09  1992      9      Bronx   6   \n",
       "19823       20516            7  1992 / 07  1992      7      Bronx   6   \n",
       "\n",
       "        Refuse  Paper    MGP  \n",
       "0       625.20 119.40  34.40  \n",
       "1       633.10 117.20  45.80  \n",
       "2       627.50  82.40  35.60  \n",
       "3     1,194.40 341.60 210.80  \n",
       "4       726.00    nan    nan  \n",
       "...        ...    ...    ...  \n",
       "19819 2,463.80  69.30    nan  \n",
       "19820 2,165.90    nan    nan  \n",
       "19821 1,954.70    nan    nan  \n",
       "19822 2,107.10    nan    nan  \n",
       "19823 2,140.40    nan    nan  \n",
       "\n",
       "[19824 rows x 10 columns]"
      ]
     },
     "execution_count": 12,
     "metadata": {},
     "output_type": "execute_result"
    }
   ],
   "source": [
    "df"
   ]
  },
  {
   "cell_type": "code",
   "execution_count": null,
   "metadata": {},
   "outputs": [],
   "source": []
  }
 ],
 "metadata": {
  "kernelspec": {
   "display_name": "Python 3",
   "language": "python",
   "name": "python3"
  },
  "language_info": {
   "codemirror_mode": {
    "name": "ipython",
    "version": 3
   },
   "file_extension": ".py",
   "mimetype": "text/x-python",
   "name": "python",
   "nbconvert_exporter": "python",
   "pygments_lexer": "ipython3",
   "version": "3.7.6"
  }
 },
 "nbformat": 4,
 "nbformat_minor": 4
}
