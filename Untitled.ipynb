{
 "cells": [
  {
   "cell_type": "code",
   "execution_count": 623,
   "metadata": {
    "scrolled": true
   },
   "outputs": [],
   "source": [
    "import matplotlib.pyplot as plt\n",
    "import pandas as pd\n",
    "import numpy as np\n",
    "import csv\n",
    "import os\n",
    "from decimal import *\n",
    "import json"
   ]
  },
  {
   "cell_type": "code",
   "execution_count": 624,
   "metadata": {},
   "outputs": [],
   "source": [
    "# Read location of Data\n",
    "\n",
    "df = pd.read_csv(\"TonnageClean.csv\")"
   ]
  },
  {
   "cell_type": "code",
   "execution_count": 625,
   "metadata": {},
   "outputs": [
    {
     "name": "stdout",
     "output_type": "stream",
     "text": [
      "   Unnamed: 0  Month Index Year/Month  Year  Month    Borough  CD   Refuse  \\\n",
      "0           0           23  1993 / 11  1993     11  Manhattan   1   625.20   \n",
      "1           1           45  1995 / 09  1995      9  Manhattan   1   633.10   \n",
      "2           2           44  1995 / 08  1995      8  Manhattan   1   627.50   \n",
      "3           3          243  2012 / 03  2012      3  Manhattan   1 1,194.40   \n",
      "4           4            3  1992 / 03  1992      3  Manhattan   1   726.00   \n",
      "\n",
      "   Paper    MGP  \n",
      "0 119.40  34.40  \n",
      "1 117.20  45.80  \n",
      "2  82.40  35.60  \n",
      "3 341.60 210.80  \n",
      "4    nan    nan  \n"
     ]
    }
   ],
   "source": [
    "# Preview Data\n",
    "print(df.head())"
   ]
  },
  {
   "cell_type": "code",
   "execution_count": 626,
   "metadata": {},
   "outputs": [
    {
     "name": "stdout",
     "output_type": "stream",
     "text": [
      "Index(['Unnamed: 0', 'Month Index', 'Year/Month', 'Year', 'Month', 'Borough',\n",
      "       'CD', 'Refuse', 'Paper', 'MGP'],\n",
      "      dtype='object')\n"
     ]
    }
   ],
   "source": [
    "# Check Columns\n",
    "print(df.columns)"
   ]
  },
  {
   "cell_type": "code",
   "execution_count": 627,
   "metadata": {},
   "outputs": [],
   "source": [
    "# How many years\n",
    "unique = len(df[\"Year\"].unique())"
   ]
  },
  {
   "cell_type": "code",
   "execution_count": 628,
   "metadata": {},
   "outputs": [],
   "source": [
    "# Average Refuse per month\n",
    "avg_ref = (df[\"Refuse\"].mean())"
   ]
  },
  {
   "cell_type": "code",
   "execution_count": 629,
   "metadata": {},
   "outputs": [],
   "source": [
    "# Total Refuse\n",
    "tot_ref = df[\"Refuse\"].sum()"
   ]
  },
  {
   "cell_type": "code",
   "execution_count": 630,
   "metadata": {},
   "outputs": [],
   "source": [
    "# Total Recycling\n",
    "tot_rec = df[\"Paper\"].sum()"
   ]
  },
  {
   "cell_type": "code",
   "execution_count": 631,
   "metadata": {},
   "outputs": [],
   "source": [
    "# Average Recycling per month\n",
    "avg_rec = (df[\"Paper\"].mean())"
   ]
  },
  {
   "cell_type": "code",
   "execution_count": 632,
   "metadata": {},
   "outputs": [
    {
     "data": {
      "text/html": [
       "<div>\n",
       "<style scoped>\n",
       "    .dataframe tbody tr th:only-of-type {\n",
       "        vertical-align: middle;\n",
       "    }\n",
       "\n",
       "    .dataframe tbody tr th {\n",
       "        vertical-align: top;\n",
       "    }\n",
       "\n",
       "    .dataframe thead th {\n",
       "        text-align: right;\n",
       "    }\n",
       "</style>\n",
       "<table border=\"1\" class=\"dataframe\">\n",
       "  <thead>\n",
       "    <tr style=\"text-align: right;\">\n",
       "      <th></th>\n",
       "      <th>Total Years</th>\n",
       "      <th>Avg Refuse Per Month</th>\n",
       "      <th>Total Refuse in Tons</th>\n",
       "      <th>Total Recycling in Tons</th>\n",
       "      <th>Avg Rec Per Month</th>\n",
       "    </tr>\n",
       "  </thead>\n",
       "  <tbody>\n",
       "    <tr>\n",
       "      <th>0</th>\n",
       "      <td>28</td>\n",
       "      <td>3,760.67</td>\n",
       "      <td>74,551,578.90</td>\n",
       "      <td>7,452,780.00</td>\n",
       "      <td>416.47</td>\n",
       "    </tr>\n",
       "  </tbody>\n",
       "</table>\n",
       "</div>"
      ],
      "text/plain": [
       "   Total Years  Avg Refuse Per Month  Total Refuse in Tons  \\\n",
       "0           28              3,760.67         74,551,578.90   \n",
       "\n",
       "   Total Recycling in Tons  Avg Rec Per Month  \n",
       "0             7,452,780.00             416.47  "
      ]
     },
     "execution_count": 632,
     "metadata": {},
     "output_type": "execute_result"
    }
   ],
   "source": [
    "# Analysis Total\n",
    "pd.options.display.float_format = '{:,.2f}'.format # sets the DF to 2 decimal places\n",
    "\n",
    "refuse_analysis = pd.DataFrame({\"Total Years\": [unique],\n",
    "                                \"Avg Refuse Per Month\": [avg_ref],\n",
    "                                \"Total Refuse in Tons\": [tot_ref],\n",
    "                                \"Total Recycling in Tons\": [tot_rec],\n",
    "                                \"Avg Rec Per Month\": [avg_rec]})\n",
    "                                         \n",
    "refuse_analysis\n"
   ]
  },
  {
   "cell_type": "code",
   "execution_count": 633,
   "metadata": {},
   "outputs": [
    {
     "data": {
      "text/plain": [
       "28"
      ]
     },
     "execution_count": 633,
     "metadata": {},
     "output_type": "execute_result"
    }
   ],
   "source": [
    "# Using traversal, we can traverse for every element in the list and check if the element is in the unique_list already,\n",
    "# if it is not over there, then we can append it in the unique_list.\n",
    "# This is done using one for loop and other if statement which checks to see if the value is in the unique list\n",
    "# or not which is same to another for loop.\n",
    "\n",
    "# function to get unique values \n",
    "def unique(list1): \n",
    "  \n",
    "    # create null list - although python does not have null - it has a none value \n",
    "    unique_year = [] \n",
    "      \n",
    "    # pass over all elements = loop\n",
    "    for x in list1: \n",
    "        # check if it exists in unique_year or not \n",
    "        if x not in unique_year: \n",
    "            unique_year.append(x) # append = Adds its argument as a single element to the end of a list\n",
    "    # print list \n",
    "    for x in unique_year: \n",
    "        print (x, ends=\" \") # meaning that after the print statement it will print a new line\n",
    "        \n",
    "unique_year"
   ]
  },
  {
   "cell_type": "code",
   "execution_count": 641,
   "metadata": {},
   "outputs": [
    {
     "ename": "TypeError",
     "evalue": "'int' object is not subscriptable",
     "output_type": "error",
     "traceback": [
      "\u001b[1;31m---------------------------------------------------------------------------\u001b[0m",
      "\u001b[1;31mTypeError\u001b[0m                                 Traceback (most recent call last)",
      "\u001b[1;32m<ipython-input-641-cde19300449a>\u001b[0m in \u001b[0;36m<module>\u001b[1;34m\u001b[0m\n\u001b[0;32m      7\u001b[0m \u001b[0munique_year\u001b[0m \u001b[1;33m=\u001b[0m \u001b[0mlen\u001b[0m\u001b[1;33m(\u001b[0m\u001b[0mdf\u001b[0m\u001b[1;33m[\u001b[0m\u001b[1;34m\"Year\"\u001b[0m\u001b[1;33m]\u001b[0m\u001b[1;33m.\u001b[0m\u001b[0munique\u001b[0m\u001b[1;33m(\u001b[0m\u001b[1;33m)\u001b[0m\u001b[1;33m)\u001b[0m\u001b[1;33m\u001b[0m\u001b[1;33m\u001b[0m\u001b[0m\n\u001b[0;32m      8\u001b[0m \u001b[1;33m\u001b[0m\u001b[0m\n\u001b[1;32m----> 9\u001b[1;33m \u001b[0myear_analysis\u001b[0m \u001b[1;33m=\u001b[0m \u001b[0mint\u001b[0m\u001b[1;33m(\u001b[0m\u001b[0munique_year\u001b[0m\u001b[1;33m[\u001b[0m\u001b[1;34m\"Year\"\u001b[0m\u001b[1;33m,\u001b[0m \u001b[1;34m\"Refuse\"\u001b[0m\u001b[1;33m]\u001b[0m\u001b[1;33m)\u001b[0m\u001b[1;33m\u001b[0m\u001b[1;33m\u001b[0m\u001b[0m\n\u001b[0m\u001b[0;32m     10\u001b[0m \u001b[1;33m\u001b[0m\u001b[0m\n\u001b[0;32m     11\u001b[0m \u001b[0mrefuse_count\u001b[0m \u001b[1;33m=\u001b[0m \u001b[0munique_year\u001b[0m\u001b[1;33m[\u001b[0m\u001b[1;34m\"Refuse\"\u001b[0m\u001b[1;33m]\u001b[0m\u001b[1;33m.\u001b[0m\u001b[0msum\u001b[0m\u001b[1;33m(\u001b[0m\u001b[1;33m)\u001b[0m\u001b[1;33m\u001b[0m\u001b[1;33m\u001b[0m\u001b[0m\n",
      "\u001b[1;31mTypeError\u001b[0m: 'int' object is not subscriptable"
     ]
    }
   ],
   "source": [
    "# Ratio of recycling to total refuse over time\n",
    " # Total Refuse per Year = need the year to correspond with refuse for that year, unique year equals Refuse for that year\n",
    " # Total Recycling per Year\n",
    " # Ratio of Refuse to Recycling per year\n",
    " # Overall ratio of recycling to refuse\n",
    "\n",
    "unique_year = len(df[\"Year\"].unique())\n",
    "\n",
    "year_analysis = int(unique_year[\"Year\", \"Refuse\"])\n",
    "\n",
    "refuse_count = unique_year[\"Refuse\"].sum()\n",
    "\n",
    "year_ton = pd.DataFrame({\"Specific Year\": unique_year,\n",
    "                         \"Total Tons for Year\": refuse_count})\n",
    "\n",
    "year_ton.head()\n",
    "\n"
   ]
  },
  {
   "cell_type": "code",
   "execution_count": null,
   "metadata": {},
   "outputs": [],
   "source": []
  }
 ],
 "metadata": {
  "kernelspec": {
   "display_name": "Python 3",
   "language": "python",
   "name": "python3"
  },
  "language_info": {
   "codemirror_mode": {
    "name": "ipython",
    "version": 3
   },
   "file_extension": ".py",
   "mimetype": "text/x-python",
   "name": "python",
   "nbconvert_exporter": "python",
   "pygments_lexer": "ipython3",
   "version": "3.6.9"
  }
 },
 "nbformat": 4,
 "nbformat_minor": 4
}
