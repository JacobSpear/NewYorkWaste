{
 "cells": [
  {
   "cell_type": "code",
   "execution_count": 1,
   "metadata": {},
   "outputs": [],
   "source": [
    "import matplotlib.pyplot as plt\n",
    "import os\n",
    "import pandas as pd\n",
    "import numpy as np\n",
    "from scipy.stats import linregress\n",
    "import scipy.stats as stats"
   ]
  },
  {
   "cell_type": "code",
   "execution_count": 9,
   "metadata": {},
   "outputs": [],
   "source": [
    "input_1 = os.path.join(\"..\",\"Population_Estimate_Analysis\",\"CD_Population_Estimates.csv\")\n",
    "population_df = pd.read_csv(input_1,index_col=\"CD_ID\")\n",
    "population_df = population_df.drop([\"1990\", \"1991\"],axis=1)\n",
    "\n",
    "input_2 = os.path.join(\"..\",\"Clean_Data\",\"TonnageClean.csv\")\n",
    "trash_df = pd.read_csv(input_2,index_col=0)"
   ]
  },
  {
   "cell_type": "code",
   "execution_count": 10,
   "metadata": {},
   "outputs": [],
   "source": [
    "trash_df=trash_df[trash_df[\"Year\"]<2019].drop([\"MGP\",\"Paper\"],axis=1)"
   ]
  },
  {
   "cell_type": "code",
   "execution_count": 11,
   "metadata": {},
   "outputs": [
    {
     "data": {
      "text/html": [
       "<div>\n",
       "<style scoped>\n",
       "    .dataframe tbody tr th:only-of-type {\n",
       "        vertical-align: middle;\n",
       "    }\n",
       "\n",
       "    .dataframe tbody tr th {\n",
       "        vertical-align: top;\n",
       "    }\n",
       "\n",
       "    .dataframe thead th {\n",
       "        text-align: right;\n",
       "    }\n",
       "</style>\n",
       "<table border=\"1\" class=\"dataframe\">\n",
       "  <thead>\n",
       "    <tr style=\"text-align: right;\">\n",
       "      <th></th>\n",
       "      <th>Borough</th>\n",
       "      <th>CD Number</th>\n",
       "      <th>1992</th>\n",
       "      <th>1993</th>\n",
       "      <th>1994</th>\n",
       "      <th>1995</th>\n",
       "      <th>1996</th>\n",
       "      <th>1997</th>\n",
       "      <th>1998</th>\n",
       "      <th>1999</th>\n",
       "      <th>...</th>\n",
       "      <th>2009</th>\n",
       "      <th>2010</th>\n",
       "      <th>2011</th>\n",
       "      <th>2012</th>\n",
       "      <th>2013</th>\n",
       "      <th>2014</th>\n",
       "      <th>2015</th>\n",
       "      <th>2016</th>\n",
       "      <th>2017</th>\n",
       "      <th>2018</th>\n",
       "    </tr>\n",
       "    <tr>\n",
       "      <th>CD_ID</th>\n",
       "      <th></th>\n",
       "      <th></th>\n",
       "      <th></th>\n",
       "      <th></th>\n",
       "      <th></th>\n",
       "      <th></th>\n",
       "      <th></th>\n",
       "      <th></th>\n",
       "      <th></th>\n",
       "      <th></th>\n",
       "      <th></th>\n",
       "      <th></th>\n",
       "      <th></th>\n",
       "      <th></th>\n",
       "      <th></th>\n",
       "      <th></th>\n",
       "      <th></th>\n",
       "      <th></th>\n",
       "      <th></th>\n",
       "      <th></th>\n",
       "      <th></th>\n",
       "    </tr>\n",
       "  </thead>\n",
       "  <tbody>\n",
       "    <tr>\n",
       "      <td>Bronx 1</td>\n",
       "      <td>Bronx</td>\n",
       "      <td>1</td>\n",
       "      <td>77605.860240</td>\n",
       "      <td>78292.870813</td>\n",
       "      <td>78735.102210</td>\n",
       "      <td>79140.123156</td>\n",
       "      <td>79505.86392</td>\n",
       "      <td>80019.936793</td>\n",
       "      <td>80667.604986</td>\n",
       "      <td>81434.029088</td>\n",
       "      <td>...</td>\n",
       "      <td>90183.747541</td>\n",
       "      <td>91497.0</td>\n",
       "      <td>92740.278371</td>\n",
       "      <td>94276.970332</td>\n",
       "      <td>95570.824555</td>\n",
       "      <td>96772.481922</td>\n",
       "      <td>97976.511446</td>\n",
       "      <td>98863.586492</td>\n",
       "      <td>99060.342574</td>\n",
       "      <td>99104.354520</td>\n",
       "    </tr>\n",
       "    <tr>\n",
       "      <td>Bronx 2</td>\n",
       "      <td>Bronx</td>\n",
       "      <td>2</td>\n",
       "      <td>40606.750589</td>\n",
       "      <td>41443.115821</td>\n",
       "      <td>42150.799982</td>\n",
       "      <td>42837.751716</td>\n",
       "      <td>43502.19453</td>\n",
       "      <td>44247.204843</td>\n",
       "      <td>45067.123536</td>\n",
       "      <td>45955.837863</td>\n",
       "      <td>...</td>\n",
       "      <td>51487.165274</td>\n",
       "      <td>52246.0</td>\n",
       "      <td>52964.946346</td>\n",
       "      <td>53851.551215</td>\n",
       "      <td>54599.535124</td>\n",
       "      <td>55294.902872</td>\n",
       "      <td>55991.672104</td>\n",
       "      <td>56507.325035</td>\n",
       "      <td>56628.342551</td>\n",
       "      <td>56661.902348</td>\n",
       "    </tr>\n",
       "  </tbody>\n",
       "</table>\n",
       "<p>2 rows × 29 columns</p>\n",
       "</div>"
      ],
      "text/plain": [
       "        Borough  CD Number          1992          1993          1994  \\\n",
       "CD_ID                                                                  \n",
       "Bronx 1   Bronx          1  77605.860240  78292.870813  78735.102210   \n",
       "Bronx 2   Bronx          2  40606.750589  41443.115821  42150.799982   \n",
       "\n",
       "                 1995         1996          1997          1998          1999  \\\n",
       "CD_ID                                                                          \n",
       "Bronx 1  79140.123156  79505.86392  80019.936793  80667.604986  81434.029088   \n",
       "Bronx 2  42837.751716  43502.19453  44247.204843  45067.123536  45955.837863   \n",
       "\n",
       "         ...          2009     2010          2011          2012          2013  \\\n",
       "CD_ID    ...                                                                    \n",
       "Bronx 1  ...  90183.747541  91497.0  92740.278371  94276.970332  95570.824555   \n",
       "Bronx 2  ...  51487.165274  52246.0  52964.946346  53851.551215  54599.535124   \n",
       "\n",
       "                 2014          2015          2016          2017          2018  \n",
       "CD_ID                                                                          \n",
       "Bronx 1  96772.481922  97976.511446  98863.586492  99060.342574  99104.354520  \n",
       "Bronx 2  55294.902872  55991.672104  56507.325035  56628.342551  56661.902348  \n",
       "\n",
       "[2 rows x 29 columns]"
      ]
     },
     "execution_count": 11,
     "metadata": {},
     "output_type": "execute_result"
    }
   ],
   "source": [
    "population_df.head(2)"
   ]
  },
  {
   "cell_type": "code",
   "execution_count": 12,
   "metadata": {},
   "outputs": [],
   "source": [
    "trash_df[\"CD_ID\"]=trash_df[\"Borough\"] + \" \" + trash_df[\"CD\"].map(str)"
   ]
  },
  {
   "cell_type": "code",
   "execution_count": 13,
   "metadata": {},
   "outputs": [
    {
     "data": {
      "text/html": [
       "<div>\n",
       "<style scoped>\n",
       "    .dataframe tbody tr th:only-of-type {\n",
       "        vertical-align: middle;\n",
       "    }\n",
       "\n",
       "    .dataframe tbody tr th {\n",
       "        vertical-align: top;\n",
       "    }\n",
       "\n",
       "    .dataframe thead th {\n",
       "        text-align: right;\n",
       "    }\n",
       "</style>\n",
       "<table border=\"1\" class=\"dataframe\">\n",
       "  <thead>\n",
       "    <tr style=\"text-align: right;\">\n",
       "      <th></th>\n",
       "      <th>Month Index</th>\n",
       "      <th>Year/Month</th>\n",
       "      <th>Year</th>\n",
       "      <th>Month</th>\n",
       "      <th>Borough</th>\n",
       "      <th>CD</th>\n",
       "      <th>Refuse</th>\n",
       "      <th>CD_ID</th>\n",
       "    </tr>\n",
       "  </thead>\n",
       "  <tbody>\n",
       "    <tr>\n",
       "      <td>0</td>\n",
       "      <td>23</td>\n",
       "      <td>1993 / 11</td>\n",
       "      <td>1993</td>\n",
       "      <td>11</td>\n",
       "      <td>Manhattan</td>\n",
       "      <td>1</td>\n",
       "      <td>625.2</td>\n",
       "      <td>Manhattan 1</td>\n",
       "    </tr>\n",
       "    <tr>\n",
       "      <td>1</td>\n",
       "      <td>45</td>\n",
       "      <td>1995 / 09</td>\n",
       "      <td>1995</td>\n",
       "      <td>9</td>\n",
       "      <td>Manhattan</td>\n",
       "      <td>1</td>\n",
       "      <td>633.1</td>\n",
       "      <td>Manhattan 1</td>\n",
       "    </tr>\n",
       "  </tbody>\n",
       "</table>\n",
       "</div>"
      ],
      "text/plain": [
       "   Month Index Year/Month  Year  Month    Borough  CD  Refuse        CD_ID\n",
       "0           23  1993 / 11  1993     11  Manhattan   1   625.2  Manhattan 1\n",
       "1           45  1995 / 09  1995      9  Manhattan   1   633.1  Manhattan 1"
      ]
     },
     "execution_count": 13,
     "metadata": {},
     "output_type": "execute_result"
    }
   ],
   "source": [
    "trash_df.head(2)"
   ]
  },
  {
   "cell_type": "code",
   "execution_count": 14,
   "metadata": {},
   "outputs": [],
   "source": [
    "gb = trash_df.groupby([\"CD_ID\",\"Year\",\"Borough\"])"
   ]
  },
  {
   "cell_type": "code",
   "execution_count": 15,
   "metadata": {},
   "outputs": [],
   "source": [
    "pctrash_dict = {\"CD_ID\":[],\n",
    "                \"Borough\":[],\n",
    "               \"Year\":[],\n",
    "               \"PC_Trash\":[]}\n",
    "for name,frame in gb:\n",
    "    cd_id = name[0]\n",
    "    year = str(name[1])\n",
    "    borough = name[2]\n",
    "    pctrash_dict[\"Year\"].append(year)\n",
    "    pctrash_dict[\"CD_ID\"].append(cd_id)\n",
    "    pctrash_dict[\"Borough\"].append(borough)\n",
    "    total_refuse = frame[\"Refuse\"].sum()\n",
    "    population = population_df.loc[cd_id,year]\n",
    "    pctrash_dict[\"PC_Trash\"].append(total_refuse/population)"
   ]
  },
  {
   "cell_type": "code",
   "execution_count": 16,
   "metadata": {},
   "outputs": [],
   "source": [
    "PerCapitaTrash = pd.DataFrame(pctrash_dict)"
   ]
  },
  {
   "cell_type": "code",
   "execution_count": 34,
   "metadata": {},
   "outputs": [],
   "source": [
    "output_0 = os.path.join(\"..\",\"Clean_Data\",\"CD_PerCapita_Trash.csv\")\n",
    "PerCapitaTrash.to_csv(output_0)"
   ]
  },
  {
   "cell_type": "code",
   "execution_count": 18,
   "metadata": {},
   "outputs": [],
   "source": [
    "analysis_gb = PerCapitaTrash.groupby([\"CD_ID\",\"Borough\"])\n",
    "year_gb = PerCapitaTrash.groupby(\"Year\")"
   ]
  },
  {
   "cell_type": "code",
   "execution_count": 19,
   "metadata": {},
   "outputs": [],
   "source": [
    "analysis_keys = list(analysis_gb.groups.keys())\n",
    "year_keys = list(year_gb.groups.keys())"
   ]
  },
  {
   "cell_type": "code",
   "execution_count": 20,
   "metadata": {},
   "outputs": [],
   "source": [
    "def sigma(my_list):\n",
    "    return np.std(my_list)\n",
    "\n",
    "def mean(my_list):\n",
    "    return np.mean(my_list)\n",
    "\n",
    "def hist_vars(my_list):\n",
    "    sig = sigma(my_list)\n",
    "    mu = mean(my_list)\n",
    "    initial_list = [mu+k*0.5*sig for k in range(-6,6)]\n",
    "    bins = [min([min(my_list),min(initial_list)])]+initial_list+[max([max(my_list),max(initial_list)])]\n",
    "    if type(my_list) is list:\n",
    "        my_list = pd.Series(my_list)\n",
    "    return [my_list,bins]"
   ]
  },
  {
   "cell_type": "code",
   "execution_count": null,
   "metadata": {},
   "outputs": [],
   "source": []
  },
  {
   "cell_type": "markdown",
   "metadata": {},
   "source": [
    "<h3> Analysis of the Distribution of Rate of Change in Trash Output Over Community Districts </h3>\n",
    "\n",
    "<p> In this section, we work to answer the question: \"How similar was the rate of change in refuse output between different community districts over time?\"</p>\n",
    "\n",
    "<p> In order to do this, we compute the <a href=https://en.wikipedia.org/wiki/Coefficient_of_variation#Examples_of_misuse> coefficient of variation </a> of the rate of change of per-capita refuse output. We have chosen the coefficient of variation because almost all the rates of change turn out to be negative (see the histogram below).  Therefore, we can consider the mean to represent the size of a typical rate of decrease, and so the ratio of the standard deviation to the mean will allow us to determine the number of times faster or slower a typical community district's trash output varied, compared to the mean. </p>\n",
    "    \n",
    "<p> In order to do this, we need to first estimate the rate of change for each community district.  Then, in order to apply the unbiased estimator for coefficient of variation found at the link, we need to verify that the rates of change are normally distributed. </p>\n",
    "\n",
    "<p> We perform a linear regression for the per-capita refuse output of each community district over time.  We take the slopes of these regression lines (slope_list) to be the rate of change in refuse output for that community district between  1992 and 2018.  We then compute descriptive statistics on these slopes in order to estimate their distribution.  First, using the scipy.stats package, we perform a hypothesis test on the null hypothesis that the slopes are normally distributed.  As the p-value is high (.76) we do not reject the null hypothesis that the rates of change are normally distributed.  Note that this does not mean that the rate of change is guaranteed to be normally distributed, only that we cannot reject the possibility that it is.  </p>"
   ]
  },
  {
   "cell_type": "code",
   "execution_count": 21,
   "metadata": {},
   "outputs": [],
   "source": [
    "slope_list=[]\n",
    "for key in analysis_keys:\n",
    "    df = analysis_gb.get_group(key)\n",
    "    slope, intercept, r_value, p_value, std_err = linregress(df[\"Year\"].map(int),df[\"PC_Trash\"])\n",
    "    slope_list.append(slope)"
   ]
  },
  {
   "cell_type": "code",
   "execution_count": 22,
   "metadata": {},
   "outputs": [
    {
     "name": "stdout",
     "output_type": "stream",
     "text": [
      "The p-value of the normal distribution hypothesis test is approximately 0.77.  We cannot reject the hypothesis that the rates of change are normally distributed\n"
     ]
    }
   ],
   "source": [
    "statistic,pvalue = stats.normaltest(slope_list)\n",
    "\n",
    "print(f\"The p-value of the normal distribution hypothesis test is approximately {round(pvalue,2)}.  We cannot reject \\\n",
    "the hypothesis that the rates of change are normally distributed\")"
   ]
  },
  {
   "cell_type": "markdown",
   "metadata": {},
   "source": [
    "<p> Now we compute the standard deviation (sig) and the mean (mu) of the rates of change.  We then create bins with width equal to half of a standard deviation and plot a histogram.  Once again, the histogram appears to come from a distribution that is approximately normal. </p>"
   ]
  },
  {
   "cell_type": "code",
   "execution_count": 27,
   "metadata": {},
   "outputs": [
    {
     "data": {
      "image/png": "[encoded data removed]",
      "text/plain": [
       "<Figure size 432x288 with 1 Axes>"
      ]
     },
     "metadata": {
      "needs_background": "light"
     },
     "output_type": "display_data"
    }
   ],
   "source": [
    "inputs = hist_vars(slope_list)\n",
    "plt.hist(inputs[0],bins=inputs[1])\n",
    "plt.xlabel(\"Rate of Change of Per-Capita Refuse Output (Tons per Person per Year)\")\n",
    "plt.ylabel(\"Number of Community Districts (Frequency)\")\n",
    "plt.title(\"Distribution of Rate of Change in Per-Capita Refuse Output \")\n",
    "output_1 = os.path.join(\"..\",\"Analysis_Images\",\"Rate_Of_Change_Histogram.png\")\n",
    "plt.savefig(output_1)\n",
    "plt.show()"
   ]
  },
  {
   "cell_type": "markdown",
   "metadata": {},
   "source": [
    "<p> Finally, having verified in two ways that it is reasonable to take our data as normally distributed, we estimate the coefficient of variation </p>"
   ]
  },
  {
   "cell_type": "code",
   "execution_count": 25,
   "metadata": {},
   "outputs": [
    {
     "name": "stdout",
     "output_type": "stream",
     "text": [
      "The coefficient of variation is estimated to be -0.507541107521023\n"
     ]
    }
   ],
   "source": [
    "coef_var = (1+4/len(slope_list))*(sigma(slope_list)/mean(slope_list))\n",
    "print(f\"The coefficient of variation is estimated to be {coef_var}\")"
   ]
  },
  {
   "cell_type": "markdown",
   "metadata": {},
   "source": [
    "<p> The coefficient of variation is approximately -0.5.  The negative sign appears only because the mean is negative.  This means that 68% of community districts saw a rate of decrease in refuse output between 67% and 150% of the mean rate.  Furthermore, we can conclude that 17% of districts decreased their refuse output more than 50% faster than the mean.  Therefore, the variation between rates of decrease in refuse output is significant compared to the average rate of decrease in refuse output. </p>"
   ]
  },
  {
   "cell_type": "markdown",
   "metadata": {},
   "source": [
    "<h3> Analysis of the Distribution of Per-Capita Trash Output over Community Districts in 1992, 2000, 2010, and 2018</h3>\n",
    "\n",
    "We will now perform an exploratory analysis on per-capita trash output at four years over the course of the study.  We produce histograms of per-capita refuse output in each year"
   ]
  },
  {
   "cell_type": "code",
   "execution_count": 28,
   "metadata": {
    "scrolled": true
   },
   "outputs": [
    {
     "data": {
      "image/png": "[encoded data removed]",
      "text/plain": [
       "<Figure size 432x288 with 1 Axes>"
      ]
     },
     "metadata": {
      "needs_background": "light"
     },
     "output_type": "display_data"
    },
    {
     "data": {
      "image/png": "[encoded data removed]",
      "text/plain": [
       "<Figure size 432x288 with 1 Axes>"
      ]
     },
     "metadata": {
      "needs_background": "light"
     },
     "output_type": "display_data"
    },
    {
     "data": {
      "image/png": "[encoded data removed]",
      "text/plain": [
       "<Figure size 432x288 with 1 Axes>"
      ]
     },
     "metadata": {
      "needs_background": "light"
     },
     "output_type": "display_data"
    },
    {
     "data": {
      "image/png": "[encoded data removed]",
      "text/plain": [
       "<Figure size 432x288 with 1 Axes>"
      ]
     },
     "metadata": {
      "needs_background": "light"
     },
     "output_type": "display_data"
    }
   ],
   "source": [
    "year_list = [\"1992\",\"2000\",\"2010\",\"2018\"]\n",
    "\n",
    "\n",
    "for year in year_list:\n",
    "    df = year_gb.get_group(year)\n",
    "    PC_Trash = df[\"PC_Trash\"]\n",
    "    plt.figure()\n",
    "    plt.hist(hist_vars(PC_Trash)[0],bins=hist_vars(PC_Trash)[1])\n",
    "    plt.xlim(0.15,0.6)\n",
    "    plt.ylim(0,18)\n",
    "    plt.xlabel(\"Per Capita Refuse Output (Tons per Person)\")\n",
    "    plt.ylabel(\"Number of Community Districts (Frequency)\")\n",
    "    plt.title(f\"Distribution of Per Capita Refuse Output by Community District in {year}\")\n",
    "    output_2 = os.path.join(\"..\",\"Analysis_Images\",f\"CD_PerCapita_Histogram_{year}.png\")\n",
    "    plt.savefig(output_2)\n",
    "    plt.show()\n",
    "    #print(stats.normaltest(PC_Trash))\n",
    "    "
   ]
  },
  {
   "cell_type": "markdown",
   "metadata": {},
   "source": [
    "<p>The histograms allow us to see that the distribution of per-capita refuse output is decreasing over time.  This is unsurprising that the same is true of the city as a whole.  We can also see some variation in the spread of the data over time.  This leads to the question: has the spread of per capita trash consumption changed consistently over the 27 years spanned by our data? </p>\n",
    "\n",
    "<p> To answer this question, we compute the standard deviation of refuse output in each year and make a scatter plot of its change over time. </p>"
   ]
  },
  {
   "cell_type": "code",
   "execution_count": 30,
   "metadata": {},
   "outputs": [],
   "source": [
    "sigma_list = []\n",
    "mean_list = []\n",
    "for year in year_keys:\n",
    "    PC_Trash = year_gb.get_group(year)[\"PC_Trash\"]\n",
    "    sigma_list.append(sigma(PC_Trash))\n",
    "    mean_list.append(mean(PC_Trash))\n",
    "cv_list = [sigma_list[i]/mean_list[i] for i in range(len(mean_list))]"
   ]
  },
  {
   "cell_type": "code",
   "execution_count": 32,
   "metadata": {},
   "outputs": [
    {
     "data": {
      "image/png": "[encoded data removed]",
      "text/plain": [
       "<Figure size 432x288 with 1 Axes>"
      ]
     },
     "metadata": {
      "needs_background": "light"
     },
     "output_type": "display_data"
    }
   ],
   "source": [
    "plt.scatter(year_keys,cv_list)\n",
    "plt.xticks(rotation=90)\n",
    "plt.ylim(0,0.17)\n",
    "plt.xlabel(\"Year\")\n",
    "plt.ylabel(\"Coefficient of Variation\")\n",
    "plt.title(\"Coefficient of Variation of Distribution of Community District Per-Capita Output Over Time\")\n",
    "output_3 = os.path.join(\"..\",\"Analysis_Images\",\"Coefficient_Variation.png\")\n",
    "plt.savefig(output_3)\n",
    "plt.show()"
   ]
  }
 ],
 "metadata": {
  "kernelspec": {
   "display_name": "Python 3",
   "language": "python",
   "name": "python3"
  },
  "language_info": {
   "codemirror_mode": {
    "name": "ipython",
    "version": 3
   },
   "file_extension": ".py",
   "mimetype": "text/x-python",
   "name": "python",
   "nbconvert_exporter": "python",
   "pygments_lexer": "ipython3",
   "version": "3.7.4"
  }
 },
 "nbformat": 4,
 "nbformat_minor": 4
}
