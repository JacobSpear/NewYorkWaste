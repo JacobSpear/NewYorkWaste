{
 "cells": [
  {
   "cell_type": "markdown",
   "metadata": {},
   "source": [
    "Using two DataSets:\n",
    "\n",
    " 1. DSNY_Monthly_Tonnage_Data.csv\n",
    "\n",
    " 2. CD_Population_Estimates.csv\n",
    "\n",
    "We are able to delinate the data needed to calculate and portray a multitude of important factors within the data.\n",
    "\n",
    "We are also able to distinguish across these datasets the implications of the amount of refuse per borough in New York City has, when combined with population in a period which runs from 1992 through 2018.\n",
    "\n",
    "\n"
   ]
  },
  {
   "cell_type": "code",
   "execution_count": 501,
   "metadata": {},
   "outputs": [],
   "source": [
    "import matplotlib.pyplot as plt\n",
    "import os\n",
    "import pandas as pd\n",
    "import numpy as np\n",
    "from scipy.stats import linregress\n",
    "from pylab import rcParams\n",
    "import matplotlib.patches as mpatches"
   ]
  },
  {
   "cell_type": "code",
   "execution_count": 502,
   "metadata": {},
   "outputs": [
    {
     "data": {
      "text/html": [
       "<div>\n",
       "<style scoped>\n",
       "    .dataframe tbody tr th:only-of-type {\n",
       "        vertical-align: middle;\n",
       "    }\n",
       "\n",
       "    .dataframe tbody tr th {\n",
       "        vertical-align: top;\n",
       "    }\n",
       "\n",
       "    .dataframe thead th {\n",
       "        text-align: right;\n",
       "    }\n",
       "</style>\n",
       "<table border=\"1\" class=\"dataframe\">\n",
       "  <thead>\n",
       "    <tr style=\"text-align: right;\">\n",
       "      <th></th>\n",
       "      <th>MONTH</th>\n",
       "      <th>BOROUGH</th>\n",
       "      <th>COMMUNITYDISTRICT</th>\n",
       "      <th>REFUSETONSCOLLECTED</th>\n",
       "      <th>PAPERTONSCOLLECTED</th>\n",
       "      <th>MGPTONSCOLLECTED</th>\n",
       "      <th>RESORGANICSTONS</th>\n",
       "      <th>SCHOOLORGANICTONS</th>\n",
       "      <th>LEAVESORGANICTONS</th>\n",
       "      <th>XMASTREETONS</th>\n",
       "      <th>BOROUGH_ID</th>\n",
       "    </tr>\n",
       "  </thead>\n",
       "  <tbody>\n",
       "    <tr>\n",
       "      <th>0</th>\n",
       "      <td>1993 / 11</td>\n",
       "      <td>Manhattan</td>\n",
       "      <td>1</td>\n",
       "      <td>625.2</td>\n",
       "      <td>119.4</td>\n",
       "      <td>34.4</td>\n",
       "      <td>NaN</td>\n",
       "      <td>NaN</td>\n",
       "      <td>NaN</td>\n",
       "      <td>NaN</td>\n",
       "      <td>1</td>\n",
       "    </tr>\n",
       "    <tr>\n",
       "      <th>1</th>\n",
       "      <td>1995 / 09</td>\n",
       "      <td>Manhattan</td>\n",
       "      <td>1</td>\n",
       "      <td>633.1</td>\n",
       "      <td>117.2</td>\n",
       "      <td>45.8</td>\n",
       "      <td>NaN</td>\n",
       "      <td>NaN</td>\n",
       "      <td>NaN</td>\n",
       "      <td>NaN</td>\n",
       "      <td>1</td>\n",
       "    </tr>\n",
       "    <tr>\n",
       "      <th>2</th>\n",
       "      <td>1995 / 08</td>\n",
       "      <td>Manhattan</td>\n",
       "      <td>1</td>\n",
       "      <td>627.5</td>\n",
       "      <td>82.4</td>\n",
       "      <td>35.6</td>\n",
       "      <td>NaN</td>\n",
       "      <td>NaN</td>\n",
       "      <td>NaN</td>\n",
       "      <td>NaN</td>\n",
       "      <td>1</td>\n",
       "    </tr>\n",
       "    <tr>\n",
       "      <th>3</th>\n",
       "      <td>2012 / 03</td>\n",
       "      <td>Manhattan</td>\n",
       "      <td>1</td>\n",
       "      <td>1194.4</td>\n",
       "      <td>341.6</td>\n",
       "      <td>210.8</td>\n",
       "      <td>NaN</td>\n",
       "      <td>NaN</td>\n",
       "      <td>NaN</td>\n",
       "      <td>NaN</td>\n",
       "      <td>1</td>\n",
       "    </tr>\n",
       "    <tr>\n",
       "      <th>4</th>\n",
       "      <td>1992 / 03</td>\n",
       "      <td>Manhattan</td>\n",
       "      <td>1</td>\n",
       "      <td>726.0</td>\n",
       "      <td>NaN</td>\n",
       "      <td>NaN</td>\n",
       "      <td>NaN</td>\n",
       "      <td>NaN</td>\n",
       "      <td>NaN</td>\n",
       "      <td>NaN</td>\n",
       "      <td>1</td>\n",
       "    </tr>\n",
       "  </tbody>\n",
       "</table>\n",
       "</div>"
      ],
      "text/plain": [
       "       MONTH    BOROUGH  COMMUNITYDISTRICT  REFUSETONSCOLLECTED  \\\n",
       "0  1993 / 11  Manhattan                  1                625.2   \n",
       "1  1995 / 09  Manhattan                  1                633.1   \n",
       "2  1995 / 08  Manhattan                  1                627.5   \n",
       "3  2012 / 03  Manhattan                  1               1194.4   \n",
       "4  1992 / 03  Manhattan                  1                726.0   \n",
       "\n",
       "   PAPERTONSCOLLECTED  MGPTONSCOLLECTED  RESORGANICSTONS  SCHOOLORGANICTONS  \\\n",
       "0               119.4              34.4              NaN                NaN   \n",
       "1               117.2              45.8              NaN                NaN   \n",
       "2                82.4              35.6              NaN                NaN   \n",
       "3               341.6             210.8              NaN                NaN   \n",
       "4                 NaN               NaN              NaN                NaN   \n",
       "\n",
       "   LEAVESORGANICTONS  XMASTREETONS  BOROUGH_ID  \n",
       "0                NaN           NaN           1  \n",
       "1                NaN           NaN           1  \n",
       "2                NaN           NaN           1  \n",
       "3                NaN           NaN           1  \n",
       "4                NaN           NaN           1  "
      ]
     },
     "execution_count": 502,
     "metadata": {},
     "output_type": "execute_result"
    }
   ],
   "source": [
    "# Read in Refuse DataFrame\n",
    "# calculate year and month column based on date column\n",
    "\n",
    "df = pd.read_csv(\"Resources/DSNY_Monthly_Tonnage_Data.csv\")\n",
    "df_pop = pd.read_csv(\"CD_Population_Estimates.csv\")\n",
    "df.head()"
   ]
  },
  {
   "cell_type": "code",
   "execution_count": 503,
   "metadata": {},
   "outputs": [
    {
     "data": {
      "text/html": [
       "<div>\n",
       "<style scoped>\n",
       "    .dataframe tbody tr th:only-of-type {\n",
       "        vertical-align: middle;\n",
       "    }\n",
       "\n",
       "    .dataframe tbody tr th {\n",
       "        vertical-align: top;\n",
       "    }\n",
       "\n",
       "    .dataframe thead th {\n",
       "        text-align: right;\n",
       "    }\n",
       "</style>\n",
       "<table border=\"1\" class=\"dataframe\">\n",
       "  <thead>\n",
       "    <tr style=\"text-align: right;\">\n",
       "      <th></th>\n",
       "      <th>MONTH</th>\n",
       "      <th>BOROUGH</th>\n",
       "      <th>COMMUNITYDISTRICT</th>\n",
       "      <th>REFUSETONSCOLLECTED</th>\n",
       "      <th>MGPTONSCOLLECTED</th>\n",
       "      <th>BOROUGH_ID</th>\n",
       "    </tr>\n",
       "  </thead>\n",
       "  <tbody>\n",
       "    <tr>\n",
       "      <th>0</th>\n",
       "      <td>1993 / 11</td>\n",
       "      <td>Manhattan</td>\n",
       "      <td>1</td>\n",
       "      <td>625.2</td>\n",
       "      <td>34.4</td>\n",
       "      <td>1</td>\n",
       "    </tr>\n",
       "    <tr>\n",
       "      <th>1</th>\n",
       "      <td>1995 / 09</td>\n",
       "      <td>Manhattan</td>\n",
       "      <td>1</td>\n",
       "      <td>633.1</td>\n",
       "      <td>45.8</td>\n",
       "      <td>1</td>\n",
       "    </tr>\n",
       "    <tr>\n",
       "      <th>2</th>\n",
       "      <td>1995 / 08</td>\n",
       "      <td>Manhattan</td>\n",
       "      <td>1</td>\n",
       "      <td>627.5</td>\n",
       "      <td>35.6</td>\n",
       "      <td>1</td>\n",
       "    </tr>\n",
       "    <tr>\n",
       "      <th>3</th>\n",
       "      <td>2012 / 03</td>\n",
       "      <td>Manhattan</td>\n",
       "      <td>1</td>\n",
       "      <td>1194.4</td>\n",
       "      <td>210.8</td>\n",
       "      <td>1</td>\n",
       "    </tr>\n",
       "    <tr>\n",
       "      <th>4</th>\n",
       "      <td>1992 / 03</td>\n",
       "      <td>Manhattan</td>\n",
       "      <td>1</td>\n",
       "      <td>726.0</td>\n",
       "      <td>NaN</td>\n",
       "      <td>1</td>\n",
       "    </tr>\n",
       "    <tr>\n",
       "      <th>...</th>\n",
       "      <td>...</td>\n",
       "      <td>...</td>\n",
       "      <td>...</td>\n",
       "      <td>...</td>\n",
       "      <td>...</td>\n",
       "      <td>...</td>\n",
       "    </tr>\n",
       "    <tr>\n",
       "      <th>20512</th>\n",
       "      <td>1992 / 01</td>\n",
       "      <td>Bronx</td>\n",
       "      <td>6</td>\n",
       "      <td>2165.9</td>\n",
       "      <td>NaN</td>\n",
       "      <td>2</td>\n",
       "    </tr>\n",
       "    <tr>\n",
       "      <th>20513</th>\n",
       "      <td>1991 / 04</td>\n",
       "      <td>Bronx</td>\n",
       "      <td>6</td>\n",
       "      <td>2240.2</td>\n",
       "      <td>NaN</td>\n",
       "      <td>2</td>\n",
       "    </tr>\n",
       "    <tr>\n",
       "      <th>20514</th>\n",
       "      <td>1993 / 09</td>\n",
       "      <td>Bronx</td>\n",
       "      <td>6</td>\n",
       "      <td>1954.7</td>\n",
       "      <td>NaN</td>\n",
       "      <td>2</td>\n",
       "    </tr>\n",
       "    <tr>\n",
       "      <th>20515</th>\n",
       "      <td>1992 / 09</td>\n",
       "      <td>Bronx</td>\n",
       "      <td>6</td>\n",
       "      <td>2107.1</td>\n",
       "      <td>NaN</td>\n",
       "      <td>2</td>\n",
       "    </tr>\n",
       "    <tr>\n",
       "      <th>20516</th>\n",
       "      <td>1992 / 07</td>\n",
       "      <td>Bronx</td>\n",
       "      <td>6</td>\n",
       "      <td>2140.4</td>\n",
       "      <td>NaN</td>\n",
       "      <td>2</td>\n",
       "    </tr>\n",
       "  </tbody>\n",
       "</table>\n",
       "<p>20517 rows × 6 columns</p>\n",
       "</div>"
      ],
      "text/plain": [
       "           MONTH    BOROUGH  COMMUNITYDISTRICT  REFUSETONSCOLLECTED  \\\n",
       "0      1993 / 11  Manhattan                  1                625.2   \n",
       "1      1995 / 09  Manhattan                  1                633.1   \n",
       "2      1995 / 08  Manhattan                  1                627.5   \n",
       "3      2012 / 03  Manhattan                  1               1194.4   \n",
       "4      1992 / 03  Manhattan                  1                726.0   \n",
       "...          ...        ...                ...                  ...   \n",
       "20512  1992 / 01      Bronx                  6               2165.9   \n",
       "20513  1991 / 04      Bronx                  6               2240.2   \n",
       "20514  1993 / 09      Bronx                  6               1954.7   \n",
       "20515  1992 / 09      Bronx                  6               2107.1   \n",
       "20516  1992 / 07      Bronx                  6               2140.4   \n",
       "\n",
       "       MGPTONSCOLLECTED  BOROUGH_ID  \n",
       "0                  34.4           1  \n",
       "1                  45.8           1  \n",
       "2                  35.6           1  \n",
       "3                 210.8           1  \n",
       "4                   NaN           1  \n",
       "...                 ...         ...  \n",
       "20512               NaN           2  \n",
       "20513               NaN           2  \n",
       "20514               NaN           2  \n",
       "20515               NaN           2  \n",
       "20516               NaN           2  \n",
       "\n",
       "[20517 rows x 6 columns]"
      ]
     },
     "execution_count": 503,
     "metadata": {},
     "output_type": "execute_result"
    }
   ],
   "source": [
    "# Setting to these columns gets rid of the columns we do not want to use\n",
    "    # from the DSNY_Monthly_Tonnage_Data.csv dataset\n",
    "\n",
    "df = pd.read_csv(\"Resources/DSNY_Monthly_Tonnage_Data.csv\", usecols=['MONTH',\n",
    "                                                                     'BOROUGH', \n",
    "                                                                     'COMMUNITYDISTRICT',\n",
    "                                                                     'REFUSETONSCOLLECTED',\n",
    "                                                                     'MGPTONSCOLLECTED',\n",
    "                                                                     'BOROUGH_ID'])\n",
    "\n",
    "df"
   ]
  },
  {
   "cell_type": "code",
   "execution_count": 504,
   "metadata": {},
   "outputs": [
    {
     "data": {
      "text/html": [
       "<div>\n",
       "<style scoped>\n",
       "    .dataframe tbody tr th:only-of-type {\n",
       "        vertical-align: middle;\n",
       "    }\n",
       "\n",
       "    .dataframe tbody tr th {\n",
       "        vertical-align: top;\n",
       "    }\n",
       "\n",
       "    .dataframe thead th {\n",
       "        text-align: right;\n",
       "    }\n",
       "</style>\n",
       "<table border=\"1\" class=\"dataframe\">\n",
       "  <thead>\n",
       "    <tr style=\"text-align: right;\">\n",
       "      <th></th>\n",
       "      <th>CD_ID</th>\n",
       "      <th>Borough</th>\n",
       "      <th>CD Number</th>\n",
       "      <th>1990</th>\n",
       "      <th>1991</th>\n",
       "      <th>1992</th>\n",
       "      <th>1993</th>\n",
       "      <th>1994</th>\n",
       "      <th>1995</th>\n",
       "      <th>1996</th>\n",
       "      <th>...</th>\n",
       "      <th>2009</th>\n",
       "      <th>2010</th>\n",
       "      <th>2011</th>\n",
       "      <th>2012</th>\n",
       "      <th>2013</th>\n",
       "      <th>2014</th>\n",
       "      <th>2015</th>\n",
       "      <th>2016</th>\n",
       "      <th>2017</th>\n",
       "      <th>2018</th>\n",
       "    </tr>\n",
       "  </thead>\n",
       "  <tbody>\n",
       "    <tr>\n",
       "      <th>0</th>\n",
       "      <td>Bronx 1</td>\n",
       "      <td>Bronx</td>\n",
       "      <td>1</td>\n",
       "      <td>77214.0</td>\n",
       "      <td>77391.393304</td>\n",
       "      <td>77605.860240</td>\n",
       "      <td>78292.870813</td>\n",
       "      <td>78735.102210</td>\n",
       "      <td>79140.123156</td>\n",
       "      <td>79505.86392</td>\n",
       "      <td>...</td>\n",
       "      <td>90183.747541</td>\n",
       "      <td>91497.0</td>\n",
       "      <td>92740.278371</td>\n",
       "      <td>94276.970332</td>\n",
       "      <td>95570.824555</td>\n",
       "      <td>96772.481922</td>\n",
       "      <td>97976.511446</td>\n",
       "      <td>98863.586492</td>\n",
       "      <td>99060.342574</td>\n",
       "      <td>99104.354520</td>\n",
       "    </tr>\n",
       "    <tr>\n",
       "      <th>1</th>\n",
       "      <td>Bronx 2</td>\n",
       "      <td>Bronx</td>\n",
       "      <td>2</td>\n",
       "      <td>39443.0</td>\n",
       "      <td>40017.132148</td>\n",
       "      <td>40606.750589</td>\n",
       "      <td>41443.115821</td>\n",
       "      <td>42150.799982</td>\n",
       "      <td>42837.751716</td>\n",
       "      <td>43502.19453</td>\n",
       "      <td>...</td>\n",
       "      <td>51487.165274</td>\n",
       "      <td>52246.0</td>\n",
       "      <td>52964.946346</td>\n",
       "      <td>53851.551215</td>\n",
       "      <td>54599.535124</td>\n",
       "      <td>55294.902872</td>\n",
       "      <td>55991.672104</td>\n",
       "      <td>56507.325035</td>\n",
       "      <td>56628.342551</td>\n",
       "      <td>56661.902348</td>\n",
       "    </tr>\n",
       "  </tbody>\n",
       "</table>\n",
       "<p>2 rows × 32 columns</p>\n",
       "</div>"
      ],
      "text/plain": [
       "     CD_ID Borough  CD Number     1990          1991          1992  \\\n",
       "0  Bronx 1   Bronx          1  77214.0  77391.393304  77605.860240   \n",
       "1  Bronx 2   Bronx          2  39443.0  40017.132148  40606.750589   \n",
       "\n",
       "           1993          1994          1995         1996  ...          2009  \\\n",
       "0  78292.870813  78735.102210  79140.123156  79505.86392  ...  90183.747541   \n",
       "1  41443.115821  42150.799982  42837.751716  43502.19453  ...  51487.165274   \n",
       "\n",
       "      2010          2011          2012          2013          2014  \\\n",
       "0  91497.0  92740.278371  94276.970332  95570.824555  96772.481922   \n",
       "1  52246.0  52964.946346  53851.551215  54599.535124  55294.902872   \n",
       "\n",
       "           2015          2016          2017          2018  \n",
       "0  97976.511446  98863.586492  99060.342574  99104.354520  \n",
       "1  55991.672104  56507.325035  56628.342551  56661.902348  \n",
       "\n",
       "[2 rows x 32 columns]"
      ]
     },
     "execution_count": 504,
     "metadata": {},
     "output_type": "execute_result"
    }
   ],
   "source": [
    "df_pop.head(2)"
   ]
  },
  {
   "cell_type": "code",
   "execution_count": 505,
   "metadata": {},
   "outputs": [
    {
     "data": {
      "text/plain": [
       "Index(['CD_ID', 'Borough', 'CD Number', '1990', '1991', '1992', '1993', '1994',\n",
       "       '1995', '1996', '1997', '1998', '1999', '2000', '2001', '2002', '2003',\n",
       "       '2004', '2005', '2006', '2007', '2008', '2009', '2010', '2011', '2012',\n",
       "       '2013', '2014', '2015', '2016', '2017', '2018'],\n",
       "      dtype='object')"
      ]
     },
     "execution_count": 505,
     "metadata": {},
     "output_type": "execute_result"
    }
   ],
   "source": [
    "df_pop.columns"
   ]
  },
  {
   "cell_type": "code",
   "execution_count": 506,
   "metadata": {},
   "outputs": [
    {
     "data": {
      "text/html": [
       "<div>\n",
       "<style scoped>\n",
       "    .dataframe tbody tr th:only-of-type {\n",
       "        vertical-align: middle;\n",
       "    }\n",
       "\n",
       "    .dataframe tbody tr th {\n",
       "        vertical-align: top;\n",
       "    }\n",
       "\n",
       "    .dataframe thead th {\n",
       "        text-align: right;\n",
       "    }\n",
       "</style>\n",
       "<table border=\"1\" class=\"dataframe\">\n",
       "  <thead>\n",
       "    <tr style=\"text-align: right;\">\n",
       "      <th></th>\n",
       "      <th>MONTH</th>\n",
       "      <th>BOROUGH</th>\n",
       "      <th>COMMUNITYDISTRICT</th>\n",
       "      <th>REFUSETONSCOLLECTED</th>\n",
       "      <th>MGPTONSCOLLECTED</th>\n",
       "      <th>BOROUGH_ID</th>\n",
       "    </tr>\n",
       "  </thead>\n",
       "  <tbody>\n",
       "    <tr>\n",
       "      <th>0</th>\n",
       "      <td>1993 / 11</td>\n",
       "      <td>Manhattan</td>\n",
       "      <td>1</td>\n",
       "      <td>625.2</td>\n",
       "      <td>34.4</td>\n",
       "      <td>1</td>\n",
       "    </tr>\n",
       "    <tr>\n",
       "      <th>1</th>\n",
       "      <td>1995 / 09</td>\n",
       "      <td>Manhattan</td>\n",
       "      <td>1</td>\n",
       "      <td>633.1</td>\n",
       "      <td>45.8</td>\n",
       "      <td>1</td>\n",
       "    </tr>\n",
       "  </tbody>\n",
       "</table>\n",
       "</div>"
      ],
      "text/plain": [
       "       MONTH    BOROUGH  COMMUNITYDISTRICT  REFUSETONSCOLLECTED  \\\n",
       "0  1993 / 11  Manhattan                  1                625.2   \n",
       "1  1995 / 09  Manhattan                  1                633.1   \n",
       "\n",
       "   MGPTONSCOLLECTED  BOROUGH_ID  \n",
       "0              34.4           1  \n",
       "1              45.8           1  "
      ]
     },
     "execution_count": 506,
     "metadata": {},
     "output_type": "execute_result"
    }
   ],
   "source": [
    "df.head(2)"
   ]
  },
  {
   "cell_type": "code",
   "execution_count": 507,
   "metadata": {},
   "outputs": [
    {
     "data": {
      "text/plain": [
       "Index(['MONTH', 'BOROUGH', 'COMMUNITYDISTRICT', 'REFUSETONSCOLLECTED',\n",
       "       'MGPTONSCOLLECTED', 'BOROUGH_ID'],\n",
       "      dtype='object')"
      ]
     },
     "execution_count": 507,
     "metadata": {},
     "output_type": "execute_result"
    }
   ],
   "source": [
    "df.columns"
   ]
  },
  {
   "cell_type": "code",
   "execution_count": 508,
   "metadata": {
    "scrolled": true
   },
   "outputs": [],
   "source": [
    "df[\"Year\"] = df[\"MONTH\"].str[:4]\n",
    "df[\"Month\"] = df[\"MONTH\"].str[-2:]\n",
    "\n",
    "# Delete Un-wanted Years\n",
    "\n",
    "df = df[df[\"Year\"] !=\"1990\"]\n",
    "df = df[df[\"Year\"] !=\"1991\"]\n",
    "df = df[df[\"Year\"] !=\"2019\"]\n",
    "df = df[df[\"Year\"] !=\"2020\"]\n",
    "\n",
    "# The index() method searches an element in the list and returns its index.\n",
    "# group by borough and compute sum in order to get population\n",
    "    # by borough for each year\n",
    "# groupby(by = Used to determine the groups for the groupby.\n",
    "    #If by is a function, it’s called on each value of the object’s index\n",
    "\n",
    "df = df.groupby(by=[\"BOROUGH\", \"Year\"]).sum()\n",
    "\n",
    "# reset_index = resets index to numerical value\n",
    "\n",
    "df.reset_index(inplace=True)\n",
    "\n",
    "\n",
    "                             "
   ]
  },
  {
   "cell_type": "code",
   "execution_count": 509,
   "metadata": {},
   "outputs": [],
   "source": [
    "df_pop = pd.read_csv(\"CD_Population_Estimates.csv\")"
   ]
  },
  {
   "cell_type": "code",
   "execution_count": 510,
   "metadata": {},
   "outputs": [],
   "source": [
    "# Input borough and year as strings ouput, population in that borough,\n",
    "# that year\n",
    "\n",
    "df_borough_pop = df_pop.groupby(by=\"Borough\").sum()\n"
   ]
  },
  {
   "cell_type": "code",
   "execution_count": 511,
   "metadata": {},
   "outputs": [],
   "source": [
    "# Function that looks up population given borough and year\n",
    "    # applied function to borough and year in each row of the Refuse DataFrame\n",
    "    # Result of the function for the population in the borough for that year, appears \n",
    "        # in the right\n",
    "\n",
    "def pop_lookup(borough, year):\n",
    "    return df_borough_pop.loc[borough, year] # get location from borough and year\n",
    "                                             # locator method allows to return a \n",
    "                                                 # specific value or column by labels\n"
   ]
  },
  {
   "cell_type": "code",
   "execution_count": 512,
   "metadata": {},
   "outputs": [],
   "source": [
    "# df[\"Population\"] adds column of Population\n",
    "# df.apply( = applies function to DataFrame and applies it row by row\n",
    "# run function pop_lookup\n",
    "# lambda = A lambda function can take any number of arguments, but can only have one expression\n",
    "# x: = variable that is passed in, which represents the DataFrame\n",
    "# lambda will take series as input, applied row by row, looks up values and applies pop_lookup to those 2 values\n",
    "# axis=1 = specifies the rows and not the columns\n",
    "\n",
    "df[\"Population\"] = df.apply( \n",
    "    lambda x: pop_lookup(x[\"BOROUGH\"], x[\"Year\"]), axis=1)\n",
    "\n",
    "#df.head()"
   ]
  },
  {
   "cell_type": "code",
   "execution_count": 513,
   "metadata": {},
   "outputs": [
    {
     "name": "stdout",
     "output_type": "stream",
     "text": [
      "           BOROUGH  Year  REFUSETONSCOLLECTED  Population  PerCapitaRefuse\n",
      "0            Bronx  1992             470892.7   1214085.0         0.387858\n",
      "1            Bronx  1993             427840.6   1230073.0         0.347817\n",
      "2            Bronx  1994             440798.9   1242225.0         0.354846\n",
      "3            Bronx  1995             438483.8   1253781.0         0.349729\n",
      "4            Bronx  1996             438951.8   1264701.0         0.347080\n",
      "..             ...   ...                  ...         ...              ...\n",
      "130  Staten Island  2014             179931.5    470413.0         0.382497\n",
      "131  Staten Island  2015             175985.0    470858.0         0.373754\n",
      "132  Staten Island  2016             176080.7    472545.0         0.372622\n",
      "133  Staten Island  2017             178575.7    473842.0         0.376868\n",
      "134  Staten Island  2018             181969.4    474503.0         0.383495\n",
      "\n",
      "[135 rows x 5 columns]\n"
     ]
    }
   ],
   "source": [
    "# Create column using dot notation because their are no spaces in column headers\n",
    "\n",
    "\n",
    "df[\"PerCapitaRefuse\"] = df.REFUSETONSCOLLECTED / df.Population\n",
    "\n",
    "# prints all rows\n",
    "print(df.loc[:,[\"BOROUGH\",\n",
    "                \"Year\",\n",
    "                \"REFUSETONSCOLLECTED\",\n",
    "                \"Population\",\n",
    "                \"PerCapitaRefuse\"]])"
   ]
  },
  {
   "cell_type": "code",
   "execution_count": 514,
   "metadata": {},
   "outputs": [],
   "source": [
    "df[\"Year\"]=df[\"Year\"].map(int)\n",
    "borough_gb = df.groupby(\"BOROUGH\")"
   ]
  },
  {
   "cell_type": "code",
   "execution_count": 515,
   "metadata": {},
   "outputs": [
    {
     "data": {
      "text/plain": [
       "<function matplotlib.pyplot.show(*args, **kw)>"
      ]
     },
     "execution_count": 515,
     "metadata": {},
     "output_type": "execute_result"
    },
    {
     "data": {
      "image/png": "[encoded data removed]",
      "text/plain": [
       "<Figure size 720x720 with 1 Axes>"
      ]
     },
     "metadata": {
      "needs_background": "light"
     },
     "output_type": "display_data"
    }
   ],
   "source": [
    "brooklyn = borough_gb.get_group(\"Brooklyn\")\n",
    "\n",
    "slope, intercept, r_value, p_value, std_err = linregress(brooklyn[\"Year\"], brooklyn[\"PerCapitaRefuse\"])\n",
    "x_vals = range(1992, 2019, 1)\n",
    "y_vals = [slope * x + intercept for x in x_vals]\n",
    "plt.plot(x_vals, y_vals)\n",
    "plt.scatter(brooklyn[\"Year\"] ,brooklyn[\"PerCapitaRefuse\"])\n",
    "\n",
    "plt.xlabel(\"Year\")\n",
    "plt.ylabel(\"Per Capita Refuse\")\n",
    "plt.title(\"Brooklyn's Per Capital Refuse by Year\")\n",
    "plt.yticks(np.arange(0.15, 0.50, 0.02))\n",
    "\n",
    "plt.savefig(\"PerCapitaRefuse1.png\")\n",
    "plt.show"
   ]
  },
  {
   "cell_type": "code",
   "execution_count": 516,
   "metadata": {},
   "outputs": [
    {
     "data": {
      "text/plain": [
       "<function matplotlib.pyplot.show(*args, **kw)>"
      ]
     },
     "execution_count": 516,
     "metadata": {},
     "output_type": "execute_result"
    },
    {
     "data": {
      "image/png": "[encoded data removed]",
      "text/plain": [
       "<Figure size 720x720 with 1 Axes>"
      ]
     },
     "metadata": {
      "needs_background": "light"
     },
     "output_type": "display_data"
    }
   ],
   "source": [
    "bronx = borough_gb.get_group(\"Bronx\")\n",
    "\n",
    "slope, intercept, r_value, p_value, std_err = linregress(bronx[\"Year\"], bronx[\"PerCapitaRefuse\"])\n",
    "x_vals = range(1992, 2019, 1)\n",
    "y_vals = [slope * x + intercept for x in x_vals]\n",
    "plt.plot(x_vals, y_vals)\n",
    "plt.scatter(bronx[\"Year\"] ,bronx[\"PerCapitaRefuse\"])\n",
    "\n",
    "plt.xlabel(\"Year\")\n",
    "plt.ylabel(\"Per Capita Refuse\")\n",
    "plt.title(\"Bronx Per Capital Refuse by Year\")\n",
    "plt.yticks(np.arange(0.15, 0.50, 0.05))\n",
    "\n",
    "plt.savefig(\"PerCapitaRefuse2.png\")\n",
    "plt.show"
   ]
  },
  {
   "cell_type": "code",
   "execution_count": 517,
   "metadata": {
    "scrolled": true
   },
   "outputs": [
    {
     "data": {
      "text/plain": [
       "<function matplotlib.pyplot.show(*args, **kw)>"
      ]
     },
     "execution_count": 517,
     "metadata": {},
     "output_type": "execute_result"
    },
    {
     "data": {
      "image/png": "[encoded data removed]",
      "text/plain": [
       "<Figure size 720x720 with 1 Axes>"
      ]
     },
     "metadata": {
      "needs_background": "light"
     },
     "output_type": "display_data"
    }
   ],
   "source": [
    "queens = borough_gb.get_group(\"Queens\")\n",
    "\n",
    "slope, intercept, r_value, p_value, std_err = linregress(queens[\"Year\"], queens[\"PerCapitaRefuse\"])\n",
    "x_vals = range(1992, 2019, 1)\n",
    "y_vals = [slope * x + intercept for x in x_vals]\n",
    "plt.plot(x_vals, y_vals)\n",
    "plt.scatter(queens[\"Year\"] ,queens[\"PerCapitaRefuse\"])\n",
    "\n",
    "plt.xlabel(\"Year\")\n",
    "plt.ylabel(\"Per Capita Refuse\")\n",
    "plt.title(\"Queen's Per Capital Refuse by Year\")\n",
    "plt.yticks(np.arange(0.15, 0.50, 0.05))\n",
    "\n",
    "plt.savefig(\"PerCapitaRefuse3.png\")\n",
    "plt.show"
   ]
  },
  {
   "cell_type": "code",
   "execution_count": 518,
   "metadata": {},
   "outputs": [
    {
     "data": {
      "text/plain": [
       "<function matplotlib.pyplot.show(*args, **kw)>"
      ]
     },
     "execution_count": 518,
     "metadata": {},
     "output_type": "execute_result"
    },
    {
     "data": {
      "image/png": "[encoded data removed]",
      "text/plain": [
       "<Figure size 720x720 with 1 Axes>"
      ]
     },
     "metadata": {
      "needs_background": "light"
     },
     "output_type": "display_data"
    }
   ],
   "source": [
    "statenisland = borough_gb.get_group(\"Staten Island\")\n",
    "\n",
    "slope, intercept, r_value, p_value, std_err = linregress(statenisland[\"Year\"], statenisland[\"PerCapitaRefuse\"])\n",
    "x_vals = range(1992, 2019, 1)\n",
    "y_vals = [slope * x + intercept for x in x_vals]\n",
    "plt.plot(x_vals, y_vals)\n",
    "plt.scatter(statenisland[\"Year\"] ,statenisland[\"PerCapitaRefuse\"])\n",
    "\n",
    "plt.xlabel(\"Year\")\n",
    "plt.ylabel(\"Per Capita Refuse\")\n",
    "plt.title(\"Staten Island's Per Capital Refuse by Year\")\n",
    "plt.yticks(np.arange(0.20, 0.50, 0.05))\n",
    "\n",
    "plt.savefig(\"PerCapitaRefuse4.png\")\n",
    "plt.show"
   ]
  },
  {
   "cell_type": "code",
   "execution_count": 519,
   "metadata": {
    "scrolled": true
   },
   "outputs": [
    {
     "data": {
      "text/plain": [
       "<function matplotlib.pyplot.show(*args, **kw)>"
      ]
     },
     "execution_count": 519,
     "metadata": {},
     "output_type": "execute_result"
    },
    {
     "data": {
      "image/png": "[encoded data removed]",
      "text/plain": [
       "<Figure size 720x720 with 1 Axes>"
      ]
     },
     "metadata": {
      "needs_background": "light"
     },
     "output_type": "display_data"
    }
   ],
   "source": [
    "manhattan = borough_gb.get_group(\"Manhattan\")\n",
    "\n",
    "slope, intercept, r_value, p_value, std_err = linregress(manhattan[\"Year\"], manhattan[\"PerCapitaRefuse\"])\n",
    "x_vals = range(1992, 2019, 1)\n",
    "y_vals = [slope * x + intercept for x in x_vals]\n",
    "plt.plot(x_vals, y_vals)\n",
    "plt.scatter(manhattan[\"Year\"] ,manhattan[\"PerCapitaRefuse\"])\n",
    "\n",
    "plt.xlabel(\"Year\")\n",
    "plt.ylabel(\"Per Capita Refuse\")\n",
    "plt.title(\"Manhattan's Per Capital Refuse by Year\")\n",
    "plt.legend(\"Slope Intercept\")\n",
    "plt.yticks(np.arange(0.20, 0.50, 0.05))\n",
    "\n",
    "plt.savefig(\"PerCapitaRefuse5.png\")\n",
    "plt.show"
   ]
  },
  {
   "cell_type": "code",
   "execution_count": 523,
   "metadata": {},
   "outputs": [
    {
     "data": {
      "text/plain": [
       "<function matplotlib.pyplot.show(*args, **kw)>"
      ]
     },
     "execution_count": 523,
     "metadata": {},
     "output_type": "execute_result"
    },
    {
     "data": {
      "image/png": "[encoded data removed]",
      "text/plain": [
       "<Figure size 720x720 with 1 Axes>"
      ]
     },
     "metadata": {
      "needs_background": "light"
     },
     "output_type": "display_data"
    }
   ],
   "source": [
    "\n",
    "\n",
    "bronx = borough_gb.get_group(\"Bronx\")\n",
    "queens = borough_gb.get_group(\"Queens\")\n",
    "manhattan = borough_gb.get_group(\"Manhattan\")\n",
    "statenisland = borough_gb.get_group(\"Staten Island\")\n",
    "brooklyn = borough_gb.get_group(\"Brooklyn\")\n",
    "\n",
    "slope, intercept, r_value, p_value, std_err = linregress(statenisland[\"Year\"], statenisland[\"PerCapitaRefuse\"])\n",
    "x_vals = range(1992, 2019, 1)\n",
    "y_vals = [slope * x + intercept for x in x_vals]\n",
    "plt.plot(x_vals, y_vals)\n",
    "\n",
    "slope, intercept, r_value, p_value, std_err = linregress(bronx[\"Year\"], bronx[\"PerCapitaRefuse\"])\n",
    "x_vals = range(1992, 2019, 1)\n",
    "y_vals = [slope * x + intercept for x in x_vals]\n",
    "plt.plot(x_vals, y_vals)\n",
    "\n",
    "slope, intercept, r_value, p_value, std_err = linregress(manhattan[\"Year\"], manhattan[\"PerCapitaRefuse\"])\n",
    "x_vals = range(1992, 2019, 1)\n",
    "y_vals = [slope * x + intercept for x in x_vals]\n",
    "plt.plot(x_vals, y_vals)\n",
    "\n",
    "slope, intercept, r_value, p_value, std_err = linregress(brooklyn[\"Year\"], brooklyn[\"PerCapitaRefuse\"])\n",
    "x_vals = range(1992, 2019, 1)\n",
    "y_vals = [slope * x + intercept for x in x_vals]\n",
    "plt.plot(x_vals, y_vals)\n",
    "\n",
    "slope, intercept, r_value, p_value, std_err = linregress(queens[\"Year\"], queens[\"PerCapitaRefuse\"])\n",
    "x_vals = range(1992, 2019, 1)\n",
    "y_vals = [slope * x + intercept for x in x_vals]\n",
    "plt.plot(x_vals, y_vals)\n",
    "\n",
    "plt.scatter(brooklyn[\"Year\"] ,brooklyn[\"PerCapitaRefuse\"])\n",
    "plt.scatter(bronx[\"Year\"] ,bronx[\"PerCapitaRefuse\"])\n",
    "plt.scatter(queens[\"Year\"] ,queens[\"PerCapitaRefuse\"])\n",
    "plt.scatter(manhattan[\"Year\"] ,manhattan[\"PerCapitaRefuse\"])\n",
    "plt.scatter(statenisland[\"Year\"] ,statenisland[\"PerCapitaRefuse\"])\n",
    "\n",
    "rcParams['figure.figsize'] = 10, 10\n",
    "\n",
    "blue_patch = mpatches.Patch(color=\"blue\", label=\"Staten Island\")\n",
    "plt.legend(handles=[blue_patch])\n",
    "\n",
    "#red_patch = mpatches.Patch(color=\"red\", label=\"Brooklyn\")\n",
    "#plt.legend(handles=[red_patch])\n",
    "\n",
    "#red_patch = mpatches.Patch(color='red', label='Staten Island')\n",
    "#plt.legend(handles=[red_patch])\n",
    "\n",
    "#red_patch = mpatches.Patch(color='red', label='Staten Island')\n",
    "#plt.legend(handles=[red_patch])\n",
    "\n",
    "#red_patch = mpatches.Patch(color='red', label='Staten Island')\n",
    "#plt.legend(handles=[red_patch])\n",
    "\n",
    "\n",
    "plt.xlabel(\"Year\")\n",
    "plt.ylabel(\"Per Capita Refuse\")\n",
    "plt.title(\"Each Borough's Per Capital Refuse by Year\")\n",
    "plt.yticks(np.arange(0.20, 0.50, 0.02))\n",
    "plt.savefig(\"PerCapitaRefuse6.png\")\n",
    "plt.show"
   ]
  },
  {
   "cell_type": "code",
   "execution_count": null,
   "metadata": {},
   "outputs": [],
   "source": []
  },
  {
   "cell_type": "code",
   "execution_count": null,
   "metadata": {},
   "outputs": [],
   "source": [
    "\n"
   ]
  },
  {
   "cell_type": "code",
   "execution_count": null,
   "metadata": {},
   "outputs": [],
   "source": []
  }
 ],
 "metadata": {
  "kernelspec": {
   "display_name": "Python 3",
   "language": "python",
   "name": "python3"
  },
  "language_info": {
   "codemirror_mode": {
    "name": "ipython",
    "version": 3
   },
   "file_extension": ".py",
   "mimetype": "text/x-python",
   "name": "python",
   "nbconvert_exporter": "python",
   "pygments_lexer": "ipython3",
   "version": "3.6.9"
  }
 },
 "nbformat": 4,
 "nbformat_minor": 4
}
